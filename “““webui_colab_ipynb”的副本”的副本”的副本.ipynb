{
  "cells": [
    {
      "cell_type": "markdown",
      "metadata": {
        "id": "view-in-github",
        "colab_type": "text"
      },
      "source": [
        "<a href=\"https://colab.research.google.com/github/ATHEDREST/Hello-world/blob/stable-diffusion-1/%E2%80%9C%E2%80%9C%E2%80%9Cwebui_colab_ipynb%E2%80%9D%E7%9A%84%E5%89%AF%E6%9C%AC%E2%80%9D%E7%9A%84%E5%89%AF%E6%9C%AC%E2%80%9D%E7%9A%84%E5%89%AF%E6%9C%AC.ipynb\" target=\"_parent\"><img src=\"https://colab.research.google.com/assets/colab-badge.svg\" alt=\"Open In Colab\"/></a>"
      ]
    },
    {
      "cell_type": "markdown",
      "source": [
        "导入云盘"
      ],
      "metadata": {
        "id": "nAOVJKVO0Ucm"
      }
    },
    {
      "cell_type": "code",
      "source": [
        "from google.colab import drive\n",
        "drive.mount('/content/drive')\n",
        "!wget clone https://github.com/camenduru/stable-diffusion-webui/archive/492052b5df657c3280f433fec047667246694bdb.zip /content/\n",
        "!unzip \"/content/492052b5df657c3280f433fec047667246694bdb.zip\"\n",
        "!rm -rf /content/492052b5df657c3280f433fec047667246694bdb.zip\n",
        "!mv stable-diffusion-webui-492052b5df657c3280f433fec047667246694bdb stable-diffusion-webui\n",
        "!wget clone https://github.com/d8ahazard/sd_dreambooth_extension/archive/1d7d34110005e7930b589546ff5d82ce16cdcadd.zip -O /content/stable-diffusion-webui/extensions/sd_dreambooth_extension.zip\n",
        "!unzip \"/content/stable-diffusion-webui/extensions/sd_dreambooth_extension.zip\" \n",
        "!curl -o xformers-0.0.15.dev0+189828c-py3-none-any.whl https://pub-2fdef7a2969f43289c42ac5ae3412fd4.r2.dev/xformers_0_0_15_dev0+189828c_d20221207_cp38_cp38_linux_x86_64.whl\n",
        "%pip install xformers-0.0.15.dev0+189828c-py3-none-any.whl"
      ],
      "metadata": {
        "id": "i8UKwYbgJqZY"
      },
      "execution_count": null,
      "outputs": []
    },
    {
      "cell_type": "markdown",
      "source": [
        "*克隆webui仓库*"
      ],
      "metadata": {
        "id": "2l6hMkIjzxI4"
      }
    },
    {
      "cell_type": "code",
      "execution_count": null,
      "metadata": {
        "id": "SaAJk33ppFw1"
      },
      "outputs": [],
      "source": [
        "!git clone https://github.com/deforum-art/deforum-for-automatic1111-webui /content/stable-diffusion-webui/extensions/deforum-for-automatic1111-webui\n",
        "!git clone https://github.com/dtlnor/stable-diffusion-webui-localization-zh_CN /content/stable-diffusion-webui/extensions/stable-diffusion-webui-localization-zh_CN\n",
        "!git clone https://github.com/yfszzx/stable-diffusion-webui-images-browser /content/stable-diffusion-webui/extensions/stable-diffusion-webui-images-browser\n",
        "%cd /content/stable-diffusion-webui\n",
        "#画师模型\n",
        "#!wget http://www.123114514.xyz/d/models/ckpt/%E7%94%BB%E5%B8%88%E6%A8%A1%E5%9E%8B/Kidmo/kidmo-5000.ckpt -O /content/stable-diffusion-webui/models/Stable-diffusion/kidmo.ckpt\n",
        "#!wget http://www.123114514.xyz/d/models/ckpt/%E7%94%BB%E5%B8%88%E6%A8%A1%E5%9E%8B/%E5%8E%9F%E5%AD%90DAN/atd_6000.ckpt -O /content/stable-diffusion-webui/models/Stable-diffusion/atd.ckpt\n",
        "#!wget http://www.123114514.xyz/d/models/ckpt/%E7%94%BB%E5%B8%88%E6%A8%A1%E5%9E%8B/%E7%89%9B%E4%B9%B3%E9%87%8D%E5%B7%A5/Rhasta%20-%20%E7%89%9B%E4%B9%B3%E9%87%8D%E5%B7%A5.ckpt -O /content/stable-diffusion-webui/models/Stable-diffusion/niu.ckpt\n",
        "#橘子系列\n",
        "#!wget https://huggingface.co/stabilityai/sd-vae-ft-mse-original/resolve/main/vae-ft-mse-840000-ema-pruned.ckpt -O /content/stable-diffusion-webui/models/Stable-diffusion/vae-ft-mse-840000-ema-pruned.ckpt\n",
        "!wget https://huggingface.co/WarriorMama777/OrangeMixs/resolve/main/ElyOrangeMix.ckpt -O /content/stable-diffusion-webui/models/Stable-diffusion//Ely.ckpt\n",
        "#!wget https://huggingface.co/WarriorMama777/OrangeMixs/resolve/main/BloodOrangeMix.safetensors -O /content/stable-diffusion-webui/models/Stable-diffusion/Blood.safetensors\n",
        "#!wget https://huggingface.co/WarriorMama777/OrangeMixs/resolve/main/AbyssOrangeMix.safetensors -O /content/stable-diffusion-webui/models/Stable-diffusion/Abyss.safetensors\n",
        "!wget https://huggingface.co/Linaqruf/anything-v3.0/resolve/main/Anything-V3.0.vae.pt -O /content/stable-diffusion-webui/models/Stable-diffusion/Anything-V3.0-pruned.vae.pt\n",
        "%cd /content/stable-diffusion-webui"
      ]
    },
    {
      "cell_type": "markdown",
      "source": [
        "模型下载"
      ],
      "metadata": {
        "id": "xB4CU2Lf9q44"
      }
    },
    {
      "cell_type": "code",
      "source": [
        "!wget 此文本替换为模型下载地址 https://www.123114514.xyz/d/models/ckpt/%E7%94%BB%E5%B8%88%E6%A8%A1%E5%9E%8B/%E8%8D%BBpote/ogipote5half.ckpt -O /content/stable-diffusion-webui/models/Stable-diffusion/ogipote5half.ckpt"
      ],
      "metadata": {
        "id": "mpA6ZvVOvvUy"
      },
      "execution_count": null,
      "outputs": []
    },
    {
      "cell_type": "code",
      "source": [
        "!wget 此文本替换为模型下载地址 https://www.123114514.xyz/d/models/ckpt/%E6%B7%B7%E5%90%88%E6%A8%A1%E5%9E%8B/tycha(%20ty%E5%92%8Cmetcha%200.5%E6%B7%B7%E5%90%88%EF%BC%89.ckpt -O /content/stable-diffusion-webui/models/Stable-diffusion/tycha( ty和metcha 0.5混合）.ckpt"
      ],
      "metadata": {
        "id": "_5iJQ3bR1w1m"
      },
      "execution_count": null,
      "outputs": []
    },
    {
      "cell_type": "code",
      "source": [
        "!wget 此文本替换为模型下载地址 https://www.123114514.xyz/d/models/ckpt/(%E6%8E%A8%E8%8D%90)momoko-e.ckpt -O /content/stable-diffusion-webui/models/Stable-diffusion/momoko-e.ckpt"
      ],
      "metadata": {
        "id": "C4ULjC4511Js"
      },
      "execution_count": null,
      "outputs": []
    },
    {
      "cell_type": "code",
      "source": [
        "!wget 此文本替换为模型下载地址 https://www.123114514.xyz/d/models/ckpt/%E6%B7%B7%E5%90%88%E6%A8%A1%E5%9E%8B/%E8%9E%8D%E5%90%884%EF%BC%88%E7%82%AB%E5%BD%A9%E5%8E%9A%E6%B6%82%2BMomoFuzi%2BOgipote%2BSum%200.5%EF%BC%89.ckpt -O /content/stable-diffusion-webui/models/Stable-diffusion/融合炫彩厚涂4.ckpt"
      ],
      "metadata": {
        "id": "wTbqzuiE11bH"
      },
      "execution_count": null,
      "outputs": []
    },
    {
      "cell_type": "markdown",
      "source": [
        "启动 web ui. 您将获得一个链接 nnn.gradio.app, 访问它.\n"
      ],
      "metadata": {
        "id": "fGps5exl0GtG"
      }
    },
    {
      "cell_type": "code",
      "source": [
        "%cd /content/stable-diffusion-webui\n",
        "\n",
        "!python launch.py --share --gradio-debug --xformers"
      ],
      "metadata": {
        "id": "iAbiTNh1raAp"
      },
      "execution_count": null,
      "outputs": []
    },
    {
      "cell_type": "markdown",
      "source": [
        "将已在webui点击保存的图片，保存到Google云端硬盘"
      ],
      "metadata": {
        "id": "SCXpJtEl0M76"
      }
    },
    {
      "cell_type": "code",
      "source": [
        "from google.colab import drive # type: ignore\n",
        "\n",
        "try:\n",
        "   drive_path = \"/content/drive\"\n",
        "   drive.mount(drive_path,force_remount=True)\n",
        "except:\n",
        "   print(\"...error mounting drive or with drive path variables\")\n",
        "\n",
        "!cp -r \"/content/stable-diffusion-webui/log\" \"/content/drive/MyDrive\""
      ],
      "metadata": {
        "id": "jjnjpLk1a1G4"
      },
      "execution_count": null,
      "outputs": []
    },
    {
      "cell_type": "markdown",
      "source": [
        "将所有在webui生成的图片，保存到Google云端硬盘"
      ],
      "metadata": {
        "id": "9VwerSoL2PIO"
      }
    },
    {
      "cell_type": "code",
      "source": [
        "from google.colab import drive # type: ignore\n",
        "\n",
        "try:\n",
        "   drive_path = \"/content/drive\"\n",
        "   drive.mount(drive_path,force_remount=True)\n",
        "except:\n",
        "   print(\"...error mounting drive or with drive path variables\")\n",
        "\n",
        "!cp -r \"/content/stable-diffusion-webui/outputs\" \"/content/drive/MyDrive\""
      ],
      "metadata": {
        "id": "ZAgH5vyi2VS8"
      },
      "execution_count": null,
      "outputs": []
    },
    {
      "cell_type": "markdown",
      "source": [
        "保存生成的模型ckpt到云盘"
      ],
      "metadata": {
        "id": "rmzY-U2yIct7"
      }
    },
    {
      "cell_type": "code",
      "source": [
        "from google.colab import drive # type: ignore\n",
        "\n",
        "try:\n",
        "   drive_path = \"/content/drive\"\n",
        "   drive.mount(drive_path,force_remount=True)\n",
        "except:\n",
        "   print(\"...error mounting drive or with drive path variables\")\n",
        "\n",
        "!cp -r \"此处文本右击模型复制路径替换\" \"/content/drive/MyDrive\""
      ],
      "metadata": {
        "id": "W7WnwfImHSMG"
      },
      "execution_count": null,
      "outputs": []
    }
  ],
  "metadata": {
    "accelerator": "GPU",
    "colab": {
      "private_outputs": true,
      "provenance": [],
      "include_colab_link": true
    },
    "gpuClass": "standard",
    "kernelspec": {
      "display_name": "Python 3",
      "name": "python3"
    },
    "language_info": {
      "name": "python"
    }
  },
  "nbformat": 4,
  "nbformat_minor": 0
}